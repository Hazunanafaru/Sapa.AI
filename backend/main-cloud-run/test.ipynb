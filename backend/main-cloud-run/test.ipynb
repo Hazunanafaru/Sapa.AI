{
 "metadata": {
  "language_info": {
   "codemirror_mode": {
    "name": "ipython",
    "version": 3
   },
   "file_extension": ".py",
   "mimetype": "text/x-python",
   "name": "python",
   "nbconvert_exporter": "python",
   "pygments_lexer": "ipython3",
   "version": "3.9.0"
  },
  "orig_nbformat": 2,
  "kernelspec": {
   "name": "python390jvsc74a57bd0f9a665eed82786d1db64405b5cfd0f8037f4571b806793cb1072a84e044fc7ff",
   "display_name": "Python 3.9.0 64-bit"
  },
  "metadata": {
   "interpreter": {
    "hash": "f9a665eed82786d1db64405b5cfd0f8037f4571b806793cb1072a84e044fc7ff"
   }
  }
 },
 "nbformat": 4,
 "nbformat_minor": 2,
 "cells": [
  {
   "cell_type": "code",
   "execution_count": null,
   "metadata": {},
   "outputs": [],
   "source": [
    "# # First Test : Test Speech to text API and Machine Learning Model\n",
    "# import ml\n",
    "# import stt\n",
    "# uri = \"gs://sapaai-bucket/audio/test/test_2.flac\"\n",
    "# text = stt.transcribe_sound(uri)\n",
    "\n",
    "# input()\n",
    "# input()\n",
    "\n",
    "# instances=[text['transcript']]\n",
    "# print(instances)\n",
    "# input()\n",
    "# input()\n",
    "# version=\"v0_2\"\n",
    "# pred_test = ml.predict_json(instances, version)\n",
    "# proced_test = {\n",
    "#     \"1 Layanan Hukum\":pred_test[0][0],\n",
    "#     \"2 Layanan Medis\":pred_test[0][1],\n",
    "#     \"3 Layanan Psikologis\":pred_test[0][2],\n",
    "#     \"4 Layanan Rehabilitasi Sosial\":pred_test[0][3],\n",
    "#     \"5 Layanan Jaminan Keselamatan\":pred_test[0][4],\n",
    "#     \"6 Layanan Layanan Pendidikan\":pred_test[0][5],\n",
    "#     \"7 Layanan Pengasuhan Pengganti\":pred_test[0][6],\n",
    "#     \"8 Layanan Bantuan Sosial\":pred_test[0][7]\n",
    "# }\n",
    "# print(proced_test)"
   ]
  },
  {
   "cell_type": "code",
   "execution_count": 6,
   "metadata": {},
   "outputs": [],
   "source": [
    "# # Seconde Test: Forms API test\n",
    "# import requests\n",
    "\n",
    "# BASE = \"http://127.0.0.1:5000/\"\n",
    "\n",
    "# # =====================Test Form route============================\n",
    "# id_forms = 1\n",
    "# data = {\"id_users\": 1,\n",
    "#         \"nama_korban_forms\": \"Husni\",\n",
    "#         \"nama_tersangka_forms\": \"Husni Naufal Zuhdi\",\n",
    "#         \"kronologi_forms\": \"husni memukul husni yang sedang main FF\",\n",
    "#         \"flag_layanan1\": 1,\n",
    "#         \"flag_layanan2\": 1,\n",
    "#         \"flag_layanan3\": \"\",\n",
    "#         \"flag_layanan4\": \"\",\n",
    "#         \"flag_layanan5\": \"\",\n",
    "#         \"flag_layanan6\": \"\",\n",
    "#         \"flag_layanan7\": \"\",\n",
    "#         \"flag_layanan8\": 1,\n",
    "#         \"foto_forms\": \"\",\n",
    "#         \"lokasi_forms\": \"depan kosan Husni\",\n",
    "#         \"upload_date_forms\": \"dua hari lalu\"}"
   ]
  },
  {
   "cell_type": "code",
   "execution_count": 7,
   "metadata": {},
   "outputs": [
    {
     "output_type": "stream",
     "name": "stdout",
     "text": [
      "<Response [201]>\n"
     ]
    }
   ],
   "source": [
    "# # Post Respones (v) PASSED\n",
    "# response = requests.put(BASE + \"form/\" + str(id_forms), data)\n",
    "# print(response)"
   ]
  },
  {
   "cell_type": "code",
   "execution_count": 8,
   "metadata": {},
   "outputs": [
    {
     "output_type": "execute_result",
     "data": {
      "text/plain": [
       "{'id_forms': 1,\n",
       " 'id_users': 1,\n",
       " 'nama_korban_forms': 'Husni',\n",
       " 'nama_tersangka_forms': 'Husni Naufal Zuhdi',\n",
       " 'kronologi_forms': 'husni memukul husni yang sedang main FF',\n",
       " 'flag_layanan1': True,\n",
       " 'flag_layanan2': True,\n",
       " 'flag_layanan3': False,\n",
       " 'flag_layanan4': False,\n",
       " 'flag_layanan5': False,\n",
       " 'flag_layanan6': False,\n",
       " 'flag_layanan7': False,\n",
       " 'flag_layanan8': True,\n",
       " 'foto_forms': '',\n",
       " 'lokasi_forms': 'depan kosan Husni',\n",
       " 'upload_date_forms': 'dua hari lalu'}"
      ]
     },
     "metadata": {},
     "execution_count": 8
    }
   ],
   "source": [
    "# response.json()"
   ]
  },
  {
   "cell_type": "code",
   "execution_count": 9,
   "metadata": {},
   "outputs": [
    {
     "output_type": "stream",
     "name": "stdout",
     "text": [
      "<Response [200]>\n"
     ]
    }
   ],
   "source": [
    "# # Get Respones (v) PASSED\n",
    "# response = requests.get(BASE + \"form/\" + str(id_forms))\n",
    "# print(response)"
   ]
  },
  {
   "cell_type": "code",
   "execution_count": 10,
   "metadata": {},
   "outputs": [
    {
     "output_type": "execute_result",
     "data": {
      "text/plain": [
       "{'id_forms': 1,\n",
       " 'id_users': 1,\n",
       " 'nama_korban_forms': 'Husni',\n",
       " 'nama_tersangka_forms': 'Husni Naufal Zuhdi',\n",
       " 'kronologi_forms': 'husni memukul husni yang sedang main FF',\n",
       " 'flag_layanan1': True,\n",
       " 'flag_layanan2': True,\n",
       " 'flag_layanan3': False,\n",
       " 'flag_layanan4': False,\n",
       " 'flag_layanan5': False,\n",
       " 'flag_layanan6': False,\n",
       " 'flag_layanan7': False,\n",
       " 'flag_layanan8': True,\n",
       " 'foto_forms': '',\n",
       " 'lokasi_forms': 'depan kosan Husni',\n",
       " 'upload_date_forms': 'dua hari lalu'}"
      ]
     },
     "metadata": {},
     "execution_count": 10
    }
   ],
   "source": [
    "# response.json()"
   ]
  },
  {
   "cell_type": "code",
   "execution_count": 47,
   "metadata": {},
   "outputs": [],
   "source": [
    "# # =====================Test Panick route============================\n",
    "\n",
    "# id_panick = 5\n",
    "# data = {\"id_users\": 2,\n",
    "#         \"record_panick\": \"gs://sapaai-bucket/audio/test/test_3.mp3\",\n",
    "#         \"upload_date_panick\": \"dua hari lalu\"}"
   ]
  },
  {
   "cell_type": "code",
   "execution_count": 48,
   "metadata": {},
   "outputs": [
    {
     "output_type": "stream",
     "name": "stdout",
     "text": [
      "<Response [201]>\n"
     ]
    }
   ],
   "source": [
    "# # # Post Respones\n",
    "# response = requests.put(BASE + \"panick/\" + str(id_panick), data)\n",
    "# print(response)"
   ]
  },
  {
   "cell_type": "code",
   "execution_count": 49,
   "metadata": {},
   "outputs": [
    {
     "output_type": "execute_result",
     "data": {
      "text/plain": [
       "{'id_panick': 5,\n",
       " 'id_process': 5,\n",
       " 'upload_date_panick': 'dua hari lalu',\n",
       " 'flag_layanan1': True,\n",
       " 'flag_layanan2': False,\n",
       " 'flag_layanan3': True,\n",
       " 'flag_layanan4': False,\n",
       " 'flag_layanan5': False,\n",
       " 'flag_layanan6': False,\n",
       " 'flag_layanan7': False,\n",
       " 'flag_layanan8': False}"
      ]
     },
     "metadata": {},
     "execution_count": 49
    }
   ],
   "source": [
    "# response.json()"
   ]
  },
  {
   "cell_type": "code",
   "execution_count": null,
   "metadata": {},
   "outputs": [],
   "source": [
    "# # Get Respones\n",
    "# response = requests.get(BASE + \"panick/\" + str(id_panick))\n",
    "# print(response)"
   ]
  }
 ]
}