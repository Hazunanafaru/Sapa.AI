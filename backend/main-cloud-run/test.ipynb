{
 "metadata": {
  "language_info": {
   "codemirror_mode": {
    "name": "ipython",
    "version": 3
   },
   "file_extension": ".py",
   "mimetype": "text/x-python",
   "name": "python",
   "nbconvert_exporter": "python",
   "pygments_lexer": "ipython3",
   "version": "3.9.0"
  },
  "orig_nbformat": 2,
  "kernelspec": {
   "name": "python390jvsc74a57bd0f9a665eed82786d1db64405b5cfd0f8037f4571b806793cb1072a84e044fc7ff",
   "display_name": "Python 3.9.0 64-bit"
  },
  "metadata": {
   "interpreter": {
    "hash": "f9a665eed82786d1db64405b5cfd0f8037f4571b806793cb1072a84e044fc7ff"
   }
  }
 },
 "nbformat": 4,
 "nbformat_minor": 2,
 "cells": [
  {
   "cell_type": "code",
   "execution_count": 28,
   "metadata": {},
   "outputs": [
    {
     "output_type": "stream",
     "name": "stdout",
     "text": [
      "Saya sedang dipukuli oleh anak saya Anak saya membawa teman-temannya dan meminta uang kepada saya Saya tidak punya uang banyak jadi saya menolak kemudian kamu memukul saya\n"
     ]
    }
   ],
   "source": [
    "# First Test : Test Speech to text API and Machine Learning Model\n",
    "import ml\n",
    "import stt\n",
    "uri = \"gs://sapaai-bucket/audio/test/test_3.mp3\"\n",
    "text = stt.transcribe_sound(uri)\n",
    "print(text)"
   ]
  },
  {
   "cell_type": "code",
   "execution_count": 29,
   "metadata": {},
   "outputs": [
    {
     "output_type": "execute_result",
     "data": {
      "text/plain": [
       "str"
      ]
     },
     "metadata": {},
     "execution_count": 29
    }
   ],
   "source": [
    "type(text)"
   ]
  },
  {
   "cell_type": "code",
   "execution_count": 30,
   "metadata": {},
   "outputs": [
    {
     "output_type": "stream",
     "name": "stdout",
     "text": [
      "['Saya sedang dipukuli oleh anak saya Anak saya membawa teman-temannya dan meminta uang kepada saya Saya tidak punya uang banyak jadi saya menolak kemudian kamu memukul saya']\n",
      "{'1 Layanan Hukum': True, '2 Layanan Medis': False, '3 Layanan Psikologis': True, '4 Layanan Rehabilitasi Sosial': False, '5 Layanan Jaminan Keselamatan': False, '6 Layanan Layanan Pendidikan': False, '7 Layanan Pengasuhan Pengganti': False, '8 Layanan Bantuan Sosial': False}\n"
     ]
    }
   ],
   "source": [
    "instances=[text]\n",
    "print(instances)\n",
    "version=\"v3\"\n",
    "pred_test = ml.predict_json(instances, version)\n",
    "proced_test = {\n",
    "    \"1 Layanan Hukum\":pred_test[0][0],\n",
    "    \"2 Layanan Medis\":pred_test[0][1],\n",
    "    \"3 Layanan Psikologis\":pred_test[0][2],\n",
    "    \"4 Layanan Rehabilitasi Sosial\":pred_test[0][3],\n",
    "    \"5 Layanan Jaminan Keselamatan\":pred_test[0][4],\n",
    "    \"6 Layanan Layanan Pendidikan\":pred_test[0][5],\n",
    "    \"7 Layanan Pengasuhan Pengganti\":pred_test[0][6],\n",
    "    \"8 Layanan Bantuan Sosial\":pred_test[0][7]\n",
    "}\n",
    "print(proced_test)"
   ]
  },
  {
   "cell_type": "code",
   "execution_count": 78,
   "metadata": {},
   "outputs": [],
   "source": [
    "# Seconde Test: Forms API test\n",
    "import requests\n",
    "\n",
    "# BASE = \"https://main-cloud-run-gwccks6cga-as.a.run.app/\"\n",
    "# BASE = \"http://127.0.0.1:8000/\"\n",
    "BASE = \"http://127.0.0.1:5000/\"\n",
    "# =====================Test Form route============================\n",
    "id_forms = 2\n",
    "data_forms = {\"id_users\": \"2\",\n",
    "        \"nama_korban_forms\": \"Husni\",\n",
    "        \"nama_tersangka_forms\": \"Husni Naufal Zuhdi\",\n",
    "        \"kronologi_forms\": \"husni memukul husni yang sedang main FF\",\n",
    "        \"flag_layanan1\": 1,\n",
    "        \"flag_layanan2\": 1,\n",
    "        \"flag_layanan3\": '',\n",
    "        \"flag_layanan4\": '',\n",
    "        \"flag_layanan5\": '',\n",
    "        \"flag_layanan6\": '',\n",
    "        \"flag_layanan7\": '',\n",
    "        \"flag_layanan8\": 1,\n",
    "        \"foto_forms\": \"\",\n",
    "        \"lokasi_forms\": \"depan kosan Husni\",\n",
    "        \"upload_date_forms\": \"dua hari lalu\"}"
   ]
  },
  {
   "cell_type": "code",
   "execution_count": 79,
   "metadata": {},
   "outputs": [
    {
     "output_type": "stream",
     "name": "stdout",
     "text": [
      "<Response [201]> b'{\\n    \"id_forms\": \"-Mbg9F192CRX7CbrvSJ6\"\\n}\\n'\n"
     ]
    }
   ],
   "source": [
    "# Post Respones (v) PASSED\n",
    "response_forms = requests.put(BASE + \"forms\", data_forms)\n",
    "print(response_forms, response_forms.content)"
   ]
  },
  {
   "cell_type": "code",
   "execution_count": 80,
   "metadata": {},
   "outputs": [
    {
     "output_type": "stream",
     "name": "stdout",
     "text": [
      "{'id_forms': '-Mbg9F192CRX7CbrvSJ6'}\n"
     ]
    }
   ],
   "source": [
    "next_resp = response_forms.json()\n",
    "print(next_resp)"
   ]
  },
  {
   "cell_type": "code",
   "execution_count": 81,
   "metadata": {},
   "outputs": [
    {
     "output_type": "stream",
     "name": "stdout",
     "text": [
      "<Response [200]>\n"
     ]
    }
   ],
   "source": [
    "# Get Respones (v) PASSED\n",
    "response = requests.get(BASE + \"forms\", next_resp)\n",
    "print(response)"
   ]
  },
  {
   "cell_type": "code",
   "execution_count": 82,
   "metadata": {},
   "outputs": [
    {
     "output_type": "execute_result",
     "data": {
      "text/plain": [
       "b'{\\n    \"id_users\": \"2\",\\n    \"nama_korban_forms\": \"Husni\",\\n    \"nama_tersangka_forms\": \"Husni Naufal Zuhdi\",\\n    \"kronologi_forms\": \"husni memukul husni yang sedang main FF\",\\n    \"flag_layanan1\": true,\\n    \"flag_layanan2\": true,\\n    \"flag_layanan3\": false,\\n    \"flag_layanan4\": false,\\n    \"flag_layanan5\": false,\\n    \"flag_layanan6\": false,\\n    \"flag_layanan7\": false,\\n    \"flag_layanan8\": true,\\n    \"foto_forms\": \"\",\\n    \"lokasi_forms\": \"depan kosan Husni\",\\n    \"upload_date_forms\": \"dua hari lalu\"\\n}\\n'"
      ]
     },
     "metadata": {},
     "execution_count": 82
    }
   ],
   "source": [
    "response.content"
   ]
  },
  {
   "cell_type": "code",
   "execution_count": 83,
   "metadata": {},
   "outputs": [
    {
     "output_type": "execute_result",
     "data": {
      "text/plain": [
       "{'id_users': '2',\n",
       " 'nama_korban_forms': 'Husni',\n",
       " 'nama_tersangka_forms': 'Husni Naufal Zuhdi',\n",
       " 'kronologi_forms': 'husni memukul husni yang sedang main FF',\n",
       " 'flag_layanan1': True,\n",
       " 'flag_layanan2': True,\n",
       " 'flag_layanan3': False,\n",
       " 'flag_layanan4': False,\n",
       " 'flag_layanan5': False,\n",
       " 'flag_layanan6': False,\n",
       " 'flag_layanan7': False,\n",
       " 'flag_layanan8': True,\n",
       " 'foto_forms': '',\n",
       " 'lokasi_forms': 'depan kosan Husni',\n",
       " 'upload_date_forms': 'dua hari lalu'}"
      ]
     },
     "metadata": {},
     "execution_count": 83
    }
   ],
   "source": [
    "response.json()"
   ]
  },
  {
   "cell_type": "code",
   "execution_count": 90,
   "metadata": {},
   "outputs": [],
   "source": [
    "# =====================Test Call route============================\n",
    "\n",
    "data_call = {\"id_users\": 2,\n",
    "        \"record_call\": \"gs://sapaai-bucket/audio/test/test_3.mp3\",\n",
    "        \"upload_date_call\": \"dua hari lalu\"}"
   ]
  },
  {
   "cell_type": "code",
   "execution_count": 91,
   "metadata": {
    "tags": []
   },
   "outputs": [
    {
     "output_type": "stream",
     "name": "stdout",
     "text": [
      "<Response [201]> b'{\\n    \"id_call\": \"-MbgD8EQvrOEaZKIX8zY\",\\n    \"id_process\": \"-MbgDCMhOw36X0BKXaVZ\"\\n}\\n'\n"
     ]
    }
   ],
   "source": [
    "# # Post Respones\n",
    "response_call = requests.put(BASE + \"call\", data_call)\n",
    "print(response_call, response_call.content)"
   ]
  },
  {
   "cell_type": "code",
   "execution_count": 92,
   "metadata": {},
   "outputs": [
    {
     "output_type": "execute_result",
     "data": {
      "text/plain": [
       "{'id_call': '-MbgD8EQvrOEaZKIX8zY', 'id_process': '-MbgDCMhOw36X0BKXaVZ'}"
      ]
     },
     "metadata": {},
     "execution_count": 92
    }
   ],
   "source": [
    "response_call.json()"
   ]
  },
  {
   "cell_type": "code",
   "execution_count": 93,
   "metadata": {},
   "outputs": [
    {
     "output_type": "stream",
     "name": "stdout",
     "text": [
      "<Response [200]>\n"
     ]
    }
   ],
   "source": [
    "# Get Respones\n",
    "response_get_call = requests.get(BASE + \"call\", response_call.json())\n",
    "print(response_get_call)"
   ]
  },
  {
   "cell_type": "code",
   "execution_count": 94,
   "metadata": {},
   "outputs": [
    {
     "output_type": "execute_result",
     "data": {
      "text/plain": [
       "{'id_call': '-MbgD8EQvrOEaZKIX8zY',\n",
       " 'id_process': '-MbgDCMhOw36X0BKXaVZ',\n",
       " 'upload_date_call': 'dua hari lalu',\n",
       " 'flag_layanan1': True,\n",
       " 'flag_layanan2': False,\n",
       " 'flag_layanan3': True,\n",
       " 'flag_layanan4': False,\n",
       " 'flag_layanan5': False,\n",
       " 'flag_layanan6': False,\n",
       " 'flag_layanan7': False,\n",
       " 'flag_layanan8': False}"
      ]
     },
     "metadata": {},
     "execution_count": 94
    }
   ],
   "source": [
    "response_get_call.json()"
   ]
  },
  {
   "cell_type": "code",
   "execution_count": 1,
   "metadata": {},
   "outputs": [],
   "source": [
    "# Seconde Test: Forms API test\n",
    "import requests\n",
    "\n",
    "BASE = \"https://main-cloud-run-gwccks6cga-as.a.run.app:8080/\"\n",
    "\n",
    "# =====================Test Form route============================\n",
    "id_forms = 1\n",
    "data = {\"id_users\": 1,\n",
    "        \"nama_korban_forms\": \"Husni\",\n",
    "        \"nama_tersangka_forms\": \"Husni Naufal Zuhdi\",\n",
    "        \"kronologi_forms\": \"husni memukul husni yang sedang main FF\",\n",
    "        \"flag_layanan1\": 1,\n",
    "        \"flag_layanan2\": 1,\n",
    "        \"flag_layanan3\": \"\",\n",
    "        \"flag_layanan4\": \"\",\n",
    "        \"flag_layanan5\": \"\",\n",
    "        \"flag_layanan6\": \"\",\n",
    "        \"flag_layanan7\": \"\",\n",
    "        \"flag_layanan8\": 1,\n",
    "        \"foto_forms\": \"\",\n",
    "        \"lokasi_forms\": \"depan kosan Husni\",\n",
    "        \"upload_date_forms\": \"dua hari lalu\"}"
   ]
  },
  {
   "cell_type": "code",
   "execution_count": null,
   "metadata": {},
   "outputs": [],
   "source": [
    "# Post Respones (v) PASSED\n",
    "response = requests.put(BASE + \"form/\" + str(id_forms), data)\n",
    "print(response)"
   ]
  },
  {
   "cell_type": "code",
   "execution_count": null,
   "metadata": {},
   "outputs": [],
   "source": [
    "# # Get Respones (v) PASSED\n",
    "# response = requests.get(BASE + \"form/\" + str(id_forms))\n",
    "# print(response)"
   ]
  },
  {
   "cell_type": "code",
   "execution_count": 1,
   "metadata": {},
   "outputs": [
    {
     "output_type": "execute_result",
     "data": {
      "text/plain": [
       "<firebase_admin.App at 0x2525717f0d0>"
      ]
     },
     "metadata": {},
     "execution_count": 1
    }
   ],
   "source": [
    "# Third Test: Test Firebase-admin\n",
    "\n",
    "import firebase_admin\n",
    "from firebase_admin import credentials\n",
    "from firebase_admin import db\n",
    "\n",
    "# Fetch the service account key JSON file contents\n",
    "cred = credentials.Certificate('keys/firebase-test.json')\n",
    "# Initialize the app with a service account, granting admin privileges\n",
    "firebase_admin.initialize_app(cred, {\n",
    "    'databaseURL': 'https://test-2b7ab-default-rtdb.asia-southeast1.firebasedatabase.app/'\n",
    "})"
   ]
  },
  {
   "cell_type": "code",
   "execution_count": 24,
   "metadata": {},
   "outputs": [],
   "source": [
    "# Upload data\n",
    "forms = db.reference('forms')\n",
    "panick = db.reference('panick')\n",
    "process = db.reference('process')\n",
    "users = db.reference('users')"
   ]
  },
  {
   "cell_type": "code",
   "execution_count": 31,
   "metadata": {},
   "outputs": [
    {
     "output_type": "stream",
     "name": "stdout",
     "text": [
      "-MbSBlBmTTFNbrNHAfMp\n"
     ]
    }
   ],
   "source": [
    "up_forms = forms.push({\n",
    "    \"id_users\":\"2\",\n",
    "    \"nama_korban_forms\":\"Husni\",\n",
    "    \"nama_tersangka_forms\":\"Husni Naufal Zuhdi\",\n",
    "    \"kronologi_forms\":\"husni memukul husni yang sedang main FF\",\n",
    "    \"flag_layanan1\":True,\n",
    "    \"flag_layanan2\":True,\n",
    "    \"flag_layanan3\":False,\n",
    "    \"flag_layanan4\":False,\n",
    "    \"flag_layanan5\":True,\n",
    "    \"flag_layanan6\":False,\n",
    "    \"flag_layanan7\":False,\n",
    "    \"flag_layanan8\":True,\n",
    "    \"foto_forms\":'',\n",
    "    \"lokasi_forms\":\"depan kosan Husni\",\n",
    "    \"upload_date_forms\":\"dua hari lalu\"\n",
    "})\n",
    "id_forms = up_forms.key\n",
    "print(id_forms)"
   ]
  },
  {
   "cell_type": "code",
   "execution_count": 32,
   "metadata": {},
   "outputs": [
    {
     "output_type": "stream",
     "name": "stdout",
     "text": [
      "{'-MbSBQXdvpqQb2JYl0J4': {'flag_layanan1': True, 'flag_layanan2': True, 'flag_layanan3': False, 'flag_layanan4': False, 'flag_layanan5': False, 'flag_layanan6': False, 'flag_layanan7': False, 'flag_layanan8': True, 'foto_forms': '', 'id_users': '1', 'kronologi_forms': 'husni memukul husni yang sedang main FF', 'lokasi_forms': 'depan kosan Husni', 'nama_korban_forms': 'Husni', 'nama_tersangka_forms': 'Husni Naufal Zuhdi', 'upload_date_forms': 'dua hari lalu'}, '-MbSBixf2fGTvofrx9LJ': {'flag_layanan1': True, 'flag_layanan2': True, 'flag_layanan3': False, 'flag_layanan4': False, 'flag_layanan5': False, 'flag_layanan6': False, 'flag_layanan7': False, 'flag_layanan8': True, 'foto_forms': '', 'id_users': '2', 'kronologi_forms': 'husni memukul husni yang sedang main FF', 'lokasi_forms': 'depan kosan Husni', 'nama_korban_forms': 'Husni', 'nama_tersangka_forms': 'Husni Naufal Zuhdi', 'upload_date_forms': 'dua hari lalu'}, '-MbSBlBmTTFNbrNHAfMp': {'flag_layanan1': True, 'flag_layanan2': True, 'flag_layanan3': False, 'flag_layanan4': False, 'flag_layanan5': True, 'flag_layanan6': False, 'flag_layanan7': False, 'flag_layanan8': True, 'foto_forms': '', 'id_users': '2', 'kronologi_forms': 'husni memukul husni yang sedang main FF', 'lokasi_forms': 'depan kosan Husni', 'nama_korban_forms': 'Husni', 'nama_tersangka_forms': 'Husni Naufal Zuhdi', 'upload_date_forms': 'dua hari lalu'}}\n"
     ]
    }
   ],
   "source": [
    "print(forms.get())"
   ]
  },
  {
   "cell_type": "code",
   "execution_count": 37,
   "metadata": {},
   "outputs": [
    {
     "output_type": "stream",
     "name": "stdout",
     "text": [
      "{'flag_layanan1': True, 'flag_layanan2': True, 'flag_layanan3': False, 'flag_layanan4': False, 'flag_layanan5': True, 'flag_layanan6': False, 'flag_layanan7': False, 'flag_layanan8': True, 'foto_forms': '', 'id_users': '2', 'kronologi_forms': 'husni memukul husni yang sedang main FF', 'lokasi_forms': 'depan kosan Husni', 'nama_korban_forms': 'Husni', 'nama_tersangka_forms': 'Husni Naufal Zuhdi', 'upload_date_forms': 'dua hari lalu'} <class 'dict'>\n"
     ]
    }
   ],
   "source": [
    "in_forms = db.reference('forms/' + str(id_forms))\n",
    "snapshot = in_forms.get()\n",
    "print(snapshot, type(snapshot))"
   ]
  },
  {
   "cell_type": "code",
   "execution_count": 38,
   "metadata": {},
   "outputs": [
    {
     "output_type": "stream",
     "name": "stdout",
     "text": [
      "-MbSJ9HpCHqp-povoTiT\n"
     ]
    }
   ],
   "source": [
    "panick = db.reference('panick')\n",
    "up_panick = panick.push({\n",
    "    \"id_users\": 2,\n",
    "    \"record_panick\": \"gs://sapaai-bucket/audio/test/test_3.mp3\",\n",
    "    \"upload_date_panick\": \"dua hari lalu\"\n",
    "})\n",
    "id_panick = up_panick.key\n",
    "print(id_panick)"
   ]
  },
  {
   "cell_type": "code",
   "execution_count": 42,
   "metadata": {},
   "outputs": [
    {
     "output_type": "execute_result",
     "data": {
      "text/plain": [
       "'gs://sapaai-bucket/audio/test/test_3.mp3'"
      ]
     },
     "metadata": {},
     "execution_count": 42
    }
   ],
   "source": [
    "gcs_uri = db.reference('panick/' + str(id_panick) + '/record_panick').get()\n",
    "gcs_uri"
   ]
  },
  {
   "cell_type": "code",
   "execution_count": 43,
   "metadata": {},
   "outputs": [
    {
     "output_type": "stream",
     "name": "stdout",
     "text": [
      "-MbSLAVc_-Cg9De6i-j7\n"
     ]
    }
   ],
   "source": [
    "up_process = process.push({\n",
    "    \"id_panick\": id_panick,\n",
    "    \"upload_date_panick\":db.reference('panick/' + str(id_panick) + '/upload_date_panick').get(),\n",
    "    \"flag_layanan1\":True,\n",
    "    \"flag_layanan2\":True,\n",
    "    \"flag_layanan3\":True,\n",
    "    \"flag_layanan4\":False,\n",
    "    \"flag_layanan5\":False,\n",
    "    \"flag_layanan6\":False,\n",
    "    \"flag_layanan7\":True,\n",
    "    \"flag_layanan8\":False\n",
    "})\n",
    "id_process = up_process.key\n",
    "print(id_process)"
   ]
  },
  {
   "cell_type": "code",
   "execution_count": 44,
   "metadata": {},
   "outputs": [
    {
     "output_type": "stream",
     "name": "stdout",
     "text": [
      "{'flag_layanan1': True, 'flag_layanan2': True, 'flag_layanan3': True, 'flag_layanan4': False, 'flag_layanan5': False, 'flag_layanan6': False, 'flag_layanan7': True, 'flag_layanan8': False, 'id_panick': '-MbSJ9HpCHqp-povoTiT', 'upload_date_panick': 'dua hari lalu'}\n"
     ]
    }
   ],
   "source": [
    "in_process = db.reference('process/' + str(id_process))\n",
    "snapshot_process = in_process.get()\n",
    "print(snapshot_process)"
   ]
  },
  {
   "cell_type": "code",
   "execution_count": null,
   "metadata": {},
   "outputs": [],
   "source": []
  }
 ]
}